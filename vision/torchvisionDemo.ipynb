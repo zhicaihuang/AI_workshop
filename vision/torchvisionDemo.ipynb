{
 "cells": [
  {
   "cell_type": "code",
   "execution_count": 9,
   "metadata": {},
   "outputs": [],
   "source": [
    "import numpy as np\n",
    "from easydict import EasyDict\n",
    "import matplotlib.pyplot as plt"
   ]
  },
  {
   "cell_type": "code",
   "execution_count": 2,
   "metadata": {},
   "outputs": [],
   "source": [
    "import torch\n",
    "import torch.nn as nn\n",
    "import torch.optim as optim\n",
    "import torch.nn.functional as F\n",
    "from torch.utils.data.dataloader import DataLoader\n",
    "\n",
    "import torchvision\n",
    "import torchvision.transforms as transforms"
   ]
  },
  {
   "cell_type": "code",
   "execution_count": 10,
   "metadata": {},
   "outputs": [],
   "source": [
    "params=EasyDict()\n",
    "params.path=\"/home/hzc/workshop/gitfile/data/cifar10/\""
   ]
  },
  {
   "cell_type": "code",
   "execution_count": 4,
   "metadata": {},
   "outputs": [],
   "source": [
    "def imgshow(img):\n",
    "    img= img\n",
    "    imgn = img.numpy()\n",
    "    plt.imshow(np.transpose(imgn,(1,2,0)))\n",
    "    plt.show()"
   ]
  },
  {
   "cell_type": "code",
   "execution_count": 5,
   "metadata": {},
   "outputs": [],
   "source": [
    "imgTransforms = transforms.Compose([transforms.ToTensor(),\n",
    "                                transforms.Normalize((0.5,0.5,0.5),(0.5,0.5,0.5))])"
   ]
  },
  {
   "cell_type": "code",
   "execution_count": 11,
   "metadata": {},
   "outputs": [],
   "source": [
    "trainset = torchvision.datasets.CIFAR10(root=params.path,train=True,transform=imgTransforms,download=False)\n",
    "testset = torchvision.datasets.CIFAR10(root=params.path,train=False,transform=transforms,download=False)"
   ]
  },
  {
   "cell_type": "code",
   "execution_count": 12,
   "metadata": {},
   "outputs": [
    {
     "name": "stderr",
     "output_type": "stream",
     "text": [
      "Clipping input data to the valid range for imshow with RGB data ([0..1] for floats or [0..255] for integers).\n"
     ]
    },
    {
     "name": "stdout",
     "output_type": "stream",
     "text": [
      "torch.Size([3, 32, 32])\n"
     ]
    },
    {
     "data": {
      "image/png": "[encoded data removed]",
      "text/plain": [
       "<Figure size 432x288 with 1 Axes>"
      ]
     },
     "metadata": {
      "needs_background": "light"
     },
     "output_type": "display_data"
    }
   ],
   "source": [
    "print(trainset[1][0].shape)\n",
    "imgshow(torchvision.utils.make_grid(trainset[2][0]))"
   ]
  },
  {
   "cell_type": "code",
   "execution_count": 13,
   "metadata": {},
   "outputs": [],
   "source": [
    "trainLoader = torch.utils.data.DataLoader(trainset,batch_size=32,shuffle=True)\n",
    "testLoader = torch.utils.data.DataLoader(testset,batch_size=32, shuffle=True)"
   ]
  },
  {
   "cell_type": "markdown",
   "metadata": {},
   "source": [
    "## Define model"
   ]
  },
  {
   "cell_type": "code",
   "execution_count": 14,
   "metadata": {},
   "outputs": [],
   "source": [
    "class LeNet(nn.Module):\n",
    "    def __init__(self):\n",
    "        super(LeNet, self).__init__()\n",
    "        self.conv1 = nn.Conv2d(in_channels=3, out_channels=6, kernel_size=5)\n",
    "        self.conv2 = nn.Conv2d(in_channels=6, out_channels=16, kernel_size=5)\n",
    "        self.fc1 = nn.Linear(in_features=5*5*16, out_features=120)\n",
    "        self.fc2 = nn.Linear(in_features=120, out_features=84)\n",
    "        self.fc3 = nn.Linear(in_features=84, out_features=10)\n",
    "        self.pool = nn.MaxPool2d(kernel_size=2, stride=2)\n",
    "\n",
    "    def forward(self, x):\n",
    "        x = F.relu(self.conv1(x))\n",
    "        x = self.pool(x)\n",
    "        x = F.relu(self.conv2(x))\n",
    "        x = self.pool(x)\n",
    "        x = x.view(-1, 16*5*5)\n",
    "        x = F.relu(self.fc1(x))\n",
    "        x = F.relu(self.fc2(x))\n",
    "        x = self.fc3(x)\n",
    "        return x\n",
    "        "
   ]
  },
  {
   "cell_type": "code",
   "execution_count": 15,
   "metadata": {},
   "outputs": [],
   "source": [
    "net = LeNet()"
   ]
  },
  {
   "cell_type": "code",
   "execution_count": 16,
   "metadata": {},
   "outputs": [],
   "source": [
    "criterion = nn.CrossEntropyLoss()\n",
    "optimizer = optim.SGD(net.parameters(),lr=0.001, momentum=0.9)"
   ]
  },
  {
   "cell_type": "code",
   "execution_count": 17,
   "metadata": {
    "collapsed": true
   },
   "outputs": [
    {
     "name": "stdout",
     "output_type": "stream",
     "text": [
      "epoch: 0\n",
      "ecoch 0, batch   100, loss: 230.502\n",
      "ecoch 0, batch   200, loss: 230.388\n",
      "ecoch 0, batch   300, loss: 230.280\n",
      "ecoch 0, batch   400, loss: 230.337\n",
      "ecoch 0, batch   500, loss: 230.182\n",
      "ecoch 0, batch   600, loss: 230.124\n",
      "ecoch 0, batch   700, loss: 230.130\n",
      "ecoch 0, batch   800, loss: 230.120\n",
      "ecoch 0, batch   900, loss: 230.006\n",
      "ecoch 0, batch  1000, loss: 229.934\n",
      "ecoch 0, batch  1100, loss: 229.820\n",
      "ecoch 0, batch  1200, loss: 229.647\n",
      "ecoch 0, batch  1300, loss: 229.377\n",
      "ecoch 0, batch  1400, loss: 229.043\n",
      "ecoch 0, batch  1500, loss: 228.759\n",
      "epoch: 1\n",
      "ecoch 1, batch   100, loss: 226.734\n",
      "ecoch 1, batch   200, loss: 224.804\n",
      "ecoch 1, batch   300, loss: 220.114\n",
      "ecoch 1, batch   400, loss: 216.218\n",
      "ecoch 1, batch   500, loss: 210.108\n",
      "ecoch 1, batch   600, loss: 208.293\n",
      "ecoch 1, batch   700, loss: 200.742\n",
      "ecoch 1, batch   800, loss: 196.822\n",
      "ecoch 1, batch   900, loss: 196.067\n",
      "ecoch 1, batch  1000, loss: 194.297\n",
      "ecoch 1, batch  1100, loss: 189.027\n",
      "ecoch 1, batch  1200, loss: 188.480\n",
      "ecoch 1, batch  1300, loss: 186.617\n",
      "ecoch 1, batch  1400, loss: 181.631\n",
      "ecoch 1, batch  1500, loss: 178.637\n",
      "epoch: 2\n",
      "ecoch 2, batch   100, loss: 177.344\n",
      "ecoch 2, batch   200, loss: 174.617\n",
      "ecoch 2, batch   300, loss: 174.645\n",
      "ecoch 2, batch   400, loss: 174.313\n",
      "ecoch 2, batch   500, loss: 168.738\n",
      "ecoch 2, batch   600, loss: 170.722\n",
      "ecoch 2, batch   700, loss: 166.340\n",
      "ecoch 2, batch   800, loss: 162.764\n",
      "ecoch 2, batch   900, loss: 162.094\n",
      "ecoch 2, batch  1000, loss: 161.133\n",
      "ecoch 2, batch  1100, loss: 159.386\n",
      "ecoch 2, batch  1200, loss: 157.627\n",
      "ecoch 2, batch  1300, loss: 160.399\n",
      "ecoch 2, batch  1400, loss: 159.212\n",
      "ecoch 2, batch  1500, loss: 157.869\n",
      "Train done!\n"
     ]
    }
   ],
   "source": [
    "for epoch in range(3):\n",
    "    print(\"epoch:\",epoch)\n",
    "    lossOfNet = 0.0\n",
    "    for i,data in enumerate(trainLoader):\n",
    "        inputs, labels = data\n",
    "        optimizer.zero_grad()\n",
    "        output = net(inputs)\n",
    "        loss = criterion(output, labels)\n",
    "        loss.backward()\n",
    "        optimizer.step()\n",
    "        lossOfNet+=loss.item()\n",
    "        if i%100==99:\n",
    "            print(\"ecoch %d, batch %5d, loss: %.3f\"%(epoch, i+1, lossOfNet))\n",
    "            lossOfNet=0.0\n",
    "print(\"Train done!\")"
   ]
  },
  {
   "cell_type": "code",
   "execution_count": 20,
   "metadata": {},
   "outputs": [],
   "source": [
    "# dataiter = iter(testLoader) who it can not work?\n",
    "dataiter = iter(trainLoader)\n",
    "correct=0\n",
    "total=0"
   ]
  },
  {
   "cell_type": "markdown",
   "metadata": {},
   "source": [
    "## Predict"
   ]
  },
  {
   "cell_type": "code",
   "execution_count": 21,
   "metadata": {},
   "outputs": [],
   "source": [
    "with torch.no_grad():\n",
    "    for data in dataiter:\n",
    "        images, labels = data\n",
    "        output = net(images)\n",
    "        _, predicted = torch.max(output.data, 1)\n",
    "        total += labels.size(0)\n",
    "        correct += (predicted==labels).sum().item()"
   ]
  },
  {
   "cell_type": "code",
   "execution_count": 22,
   "metadata": {},
   "outputs": [
    {
     "name": "stdout",
     "output_type": "stream",
     "text": [
      "accuracy: 0.4394\n"
     ]
    }
   ],
   "source": [
    "print(\"accuracy:\",correct/total)"
   ]
  },
  {
   "cell_type": "code",
   "execution_count": null,
   "metadata": {},
   "outputs": [],
   "source": []
  }
 ],
 "metadata": {
  "kernelspec": {
   "display_name": "Python 3",
   "language": "python",
   "name": "python3"
  },
  "language_info": {
   "codemirror_mode": {
    "name": "ipython",
    "version": 3
   },
   "file_extension": ".py",
   "mimetype": "text/x-python",
   "name": "python",
   "nbconvert_exporter": "python",
   "pygments_lexer": "ipython3",
   "version": "3.7.3"
  }
 },
 "nbformat": 4,
 "nbformat_minor": 2
}
